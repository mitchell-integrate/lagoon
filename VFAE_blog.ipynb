{
 "cells": [
  {
   "cell_type": "code",
   "execution_count": 151,
   "metadata": {},
   "outputs": [],
   "source": [
    "import numpy as np\n",
    "import pandas as pd\n",
    "import tensorflow as tf\n",
    "import matplotlib.pyplot as plt\n",
    "\n",
    "from sklearn.metrics import accuracy_score, f1_score, precision_score, recall_score\n",
    "from sklearn.model_selection import train_test_split\n",
    "from sklearn.ensemble import RandomForestClassifier, GradientBoostingClassifier\n",
    "from sklearn.linear_model import LogisticRegression\n",
    "from sklearn.model_selection import RandomizedSearchCV\n",
    "\n",
    "from VFAE_functions import *\n",
    "\n",
    "%matplotlib inline"
   ]
  },
  {
   "cell_type": "markdown",
   "metadata": {},
   "source": [
    "# Load and clean the data"
   ]
  },
  {
   "cell_type": "code",
   "execution_count": null,
   "metadata": {
    "collapsed": true
   },
   "outputs": [],
   "source": [
    "df = pd.read_csv('data/OH.csv')"
   ]
  },
  {
   "cell_type": "markdown",
   "metadata": {},
   "source": [
    "### These are the columns that will be used in the model"
   ]
  },
  {
   "cell_type": "code",
   "execution_count": null,
   "metadata": {
    "collapsed": true
   },
   "outputs": [],
   "source": [
    "workable_cols = ['stop_date','stop_time','location_raw','driver_gender','driver_race','driver_race_raw','violation',\n",
    "                 'search_conducted','contraband_found','is_arrested','drugs_related_stop']\n",
    "\n",
    "df_reduced = df[workable_cols]"
   ]
  },
  {
   "cell_type": "markdown",
   "metadata": {},
   "source": [
    "### Convert time into hours and date into month"
   ]
  },
  {
   "cell_type": "code",
   "execution_count": null,
   "metadata": {
    "collapsed": true
   },
   "outputs": [],
   "source": [
    "df_reduced['stop_hour'] = df_reduced['stop_time'].apply(lambda x: x.split(':')[0])\n",
    "df_reduced['stop_month'] = df_reduced['stop_date'].apply(lambda x: x.split('-')[1])\n",
    "df_reduced.drop('stop_time',axis=1,inplace=True)\n",
    "df_reduced.drop('stop_date',axis=1,inplace=True)"
   ]
  },
  {
   "cell_type": "markdown",
   "metadata": {},
   "source": [
    "### There are around 90 different location, but the most frequent 20 account ~90% of all cases. To minimize the sparseness of the dataset, we save the 20 most frequent locations, and set the remainder to null, to be imputed later"
   ]
  },
  {
   "cell_type": "code",
   "execution_count": null,
   "metadata": {
    "collapsed": true
   },
   "outputs": [],
   "source": [
    "print(df_reduced['location_raw'].value_counts()[:20].sum()/df_reduced.shape[0])\n",
    "keep_locations = list(df_reduced['location_raw'].value_counts().keys()[:20])\n",
    "df_reduced['location_raw'] = df_reduced['location_raw'].apply(lambda x: int(x) if x in keep_locations else None)"
   ]
  },
  {
   "cell_type": "markdown",
   "metadata": {},
   "source": [
    "### There are two columns for driver race. We take the values which are 'other' in one, and replace them with the values in the second column."
   ]
  },
  {
   "cell_type": "code",
   "execution_count": null,
   "metadata": {
    "collapsed": true
   },
   "outputs": [],
   "source": [
    "df_reduced['driver_race'].loc[df_reduced['driver_race']=='Other'] = df_reduced['driver_race_raw'].loc[df_reduced['driver_race']=='Other']\n",
    "df_reduced.drop('driver_race_raw',axis=1,inplace=True)"
   ]
  },
  {
   "cell_type": "markdown",
   "metadata": {},
   "source": [
    "### The violations column includes lists of 'violations' allegedly perpetrated by each person. We want to turn these lists into numerical values, to be able to use 'violations' in a model. Thankfully, there is a realtively small number of unique violations"
   ]
  },
  {
   "cell_type": "code",
   "execution_count": null,
   "metadata": {
    "collapsed": true
   },
   "outputs": [],
   "source": [
    "violations_unique = []\n",
    "for l in df_reduced['violation'].dropna().unique():\n",
    "    violations_unique = violations_unique + l.lower().split(',')\n",
    "violations_unique = set(violations_unique)\n",
    "print(violations_unique)"
   ]
  },
  {
   "cell_type": "markdown",
   "metadata": {},
   "source": [
    "### We create a mapping between each violation and integer values, and rank these from worst to least (which is an objective definition).\n",
    "### The worst one will be selected in each row"
   ]
  },
  {
   "cell_type": "code",
   "execution_count": null,
   "metadata": {
    "collapsed": true
   },
   "outputs": [],
   "source": [
    "df_reduced['violations_numbered'] = df_reduced['violation'].fillna('other (non-mapped)').apply(violations_denoter)\n",
    "df_reduced.drop('violation',axis=1,inplace=True)"
   ]
  },
  {
   "cell_type": "markdown",
   "metadata": {},
   "source": [
    "### We need to turn categorical features into binary columns\n",
    "### The first step is to impute null values with values drawn from a probability distribution of the other values in each column"
   ]
  },
  {
   "cell_type": "code",
   "execution_count": null,
   "metadata": {
    "collapsed": true
   },
   "outputs": [],
   "source": [
    "categorical = list(df_reduced.columns)\n",
    "categorical.remove('is_arrested')"
   ]
  },
  {
   "cell_type": "code",
   "execution_count": null,
   "metadata": {
    "collapsed": true
   },
   "outputs": [],
   "source": [
    "for c in categorical:\n",
    "    df_reduced = replace_na_categorical(df_reduced,c)"
   ]
  },
  {
   "cell_type": "markdown",
   "metadata": {},
   "source": [
    "### Generate dummy variables for each categorical feature (which is all of them in this case)\n",
    "### This is now the final version of the data, that is ready to be analyzed using a machine learning model"
   ]
  },
  {
   "cell_type": "code",
   "execution_count": null,
   "metadata": {
    "collapsed": true
   },
   "outputs": [],
   "source": [
    "df_clean = pd.get_dummies(df_reduced,columns=categorical)\n",
    "df_sampled_clean = dummy.sample(frac=0.1,random_state=2018).reset_index(drop=True)"
   ]
  },
  {
   "cell_type": "markdown",
   "metadata": {
    "collapsed": true
   },
   "source": [
    "## Set up the model training and testing"
   ]
  },
  {
   "cell_type": "markdown",
   "metadata": {},
   "source": [
    "### Split the data into a training and testing set"
   ]
  },
  {
   "cell_type": "code",
   "execution_count": null,
   "metadata": {
    "collapsed": true
   },
   "outputs": [],
   "source": [
    "df = df_clean"
   ]
  },
  {
   "cell_type": "code",
   "execution_count": 123,
   "metadata": {
    "collapsed": true
   },
   "outputs": [],
   "source": [
    "df_train, df_test = train_test_split(df,test_size=0.3)"
   ]
  },
  {
   "cell_type": "markdown",
   "metadata": {},
   "source": [
    "### Define the target feature"
   ]
  },
  {
   "cell_type": "code",
   "execution_count": 94,
   "metadata": {
    "collapsed": true
   },
   "outputs": [],
   "source": [
    "target_feature = 'is_arrested'"
   ]
  },
  {
   "cell_type": "code",
   "execution_count": 124,
   "metadata": {
    "collapsed": true
   },
   "outputs": [],
   "source": [
    "train_X = np.asarray(df_train.drop([target_feature],axis=1))\n",
    "train_Y = np.asarray(df_train[target_feature]).astype(int)\n",
    "\n",
    "test_X = np.asarray(df_test.drop([target_feature],axis=1))\n",
    "test_Y = np.asarray(df_test[target_feature]).astype(int)"
   ]
  },
  {
   "cell_type": "code",
   "execution_count": 127,
   "metadata": {},
   "outputs": [
    {
     "name": "stdout",
     "output_type": "stream",
     "text": [
      "F1 score = 0.21681723419\n",
      "Precision score = 0.555160142349\n",
      "Recall score = 0.134715025907\n",
      "Accuracy score = 0.993907449454\n",
      "\n",
      "Discrimination_ratio = 3.256294240669241\n",
      "\n"
     ]
    },
    {
     "data": {
      "image/png": "[encoded data removed]",
      "text/plain": [
       "<matplotlib.figure.Figure at 0x1a294a98d0>"
      ]
     },
     "metadata": {},
     "output_type": "display_data"
    }
   ],
   "source": [
    "params = {'n_jobs': -1, 'n_estimators': 47, 'max_depth': 8, 'criterion': 'gini', 'class_weight': None}\n",
    "weights = np.ones(train_Y.shape[0])\n",
    "weights[train_Y==1] = 1.\n",
    "weights[train_Y==0] = 0.5\n",
    "RFC = run_clf('RFC',train_X,train_Y,params,weights=weights)\n",
    "bias = check_error_and_discrimination(RFC,test_X,test_Y,df_test,sensitive_features)\n",
    "df_bias = pd.DataFrame(bias).transpose()\n",
    "df_bias.columns = [\"Group\",\"N_group/N_total\",\"N_group/N_total|(predicted arrest)\",\"N_group/N_total|(predicted not arrest)\"]\n",
    "plot_distribution(df_bias)"
   ]
  },
  {
   "cell_type": "markdown",
   "metadata": {},
   "source": [
    "### We use 'driver_race_Black' as the sensitive feature, given the severe bias of the model against this group of people"
   ]
  },
  {
   "cell_type": "code",
   "execution_count": null,
   "metadata": {
    "collapsed": true
   },
   "outputs": [],
   "source": [
    "sensitive_features = ['driver_race_Black']"
   ]
  },
  {
   "cell_type": "markdown",
   "metadata": {},
   "source": [
    "## Begin setting up the VFAE"
   ]
  },
  {
   "cell_type": "markdown",
   "metadata": {},
   "source": [
    "### Split the dataset into a training and cross-validation sets, to determine the optimal hyperparameters for the VFAE"
   ]
  },
  {
   "cell_type": "code",
   "execution_count": 263,
   "metadata": {
    "scrolled": true
   },
   "outputs": [],
   "source": [
    "df_VFAE_train, df_VFAE_CV = train_test_split(df,test_size=0.5)\n",
    "df_VFAE_CV, df_VFAE_test = train_test_split(df_VFAE_CV,test_size=0.75)\n",
    "\n",
    "df_VFAE_train = df_VFAE_train.reset_index(drop=True)\n",
    "df_VFAE_CV = df_VFAE_CV.reset_index(drop=True)\n",
    "df_VFAE_test = df_VFAE_test.reset_index(drop=True)\n",
    "\n",
    "VFAE_train_X, VFAE_train_Y, VFAE_train_s = obtain_X_Y_s(df_VFAE_train,target_feature,sensitive_features)\n",
    "VFAE_CV_X, VFAE_CV_Y, VFAE_CV_s = obtain_X_Y_s(df_VFAE_CV,target_feature,sensitive_features)\n",
    "VFAE_test_X, VFAE_test_Y, VFAE_test_s = obtain_X_Y_s(df_VFAE_test,target_feature,sensitive_features)"
   ]
  },
  {
   "cell_type": "markdown",
   "metadata": {},
   "source": [
    "### Perform a hyperparameter search"
   ]
  },
  {
   "cell_type": "code",
   "execution_count": null,
   "metadata": {},
   "outputs": [],
   "source": [
    "tf.reset_default_graph()\n",
    "\n",
    "# Hidden units in the hidden layers\n",
    "# [z1, z2, encoding1, encoding2, decoding1, decoding2, unsupervised]\n",
    "hidden_dim_list = [\n",
    "    [20,20,50,50,50,50,50]\n",
    "]\n",
    "\n",
    "lr_list = [1e-3,1e-2]\n",
    "\n",
    "alpha_list = [1e-1,1e0,1e1]\n",
    "\n",
    "batch_size_list = [1000,10000]\n",
    "\n",
    "beta_list = [1e-1,1e0,1e1]\n",
    "\n",
    "D_list = [50,100,200]\n",
    "\n",
    "loss_min = 1e3\n",
    "\n",
    "for hd in hidden_dim_list:\n",
    "    \n",
    "    for lr in lr_list:\n",
    "        \n",
    "        for alpha in alpha_list:\n",
    "            \n",
    "            for bs in batch_size_list:\n",
    "                \n",
    "                for beta in beta_list:\n",
    "                    \n",
    "                    for D in D_list:\n",
    "        \n",
    "                        print(\"Begin analysis for dims = %s, lr = %s, alpha = %s, batch size = %s, beta = %s, D = %s:\"/\n",
    "                              %(hd,lr,alpha,bs,beta,D))\n",
    "\n",
    "                        dims = {\n",
    "                            'x':VFAE_train_X.shape[1],\n",
    "                            'y_cat':len(np.unique(VFAE_train_Y)),\n",
    "                            's':VFAE_train_s.shape[1],\n",
    "                            'z1':hd[0],\n",
    "                            'z2':hd[1],\n",
    "                            'enc1_hid':hd[2],\n",
    "                            'enc2_hid':hd[3],\n",
    "                            'dec1_hid':hd[4],\n",
    "                            'dec2_hid':hd[5],\n",
    "                            'us_hid':hd[6]\n",
    "                        }\n",
    "\n",
    "                        params = initialize_params(dims,N_epochs=10,lr=lr,print_freq=5,batch_size=bs,\n",
    "                                                   alpha=alpha,beta=beta,D=D,gamma=1)\n",
    "                        weights, bias = initialize_weights_biases(params)\n",
    "                        enc_X, latent_X, loss, LH_x = train_VFAE(VFAE_train_X,VFAE_train_Y,VFAE_train_s,\n",
    "                                                                 VFAE_CV_X,VFAE_CV_Y,VFAE_CV_s,\n",
    "                                                                 weights,bias,params,dims)\n",
    "\n",
    "                        print(\"The CV global loss = %s and reconstruction loss and = %s\"%(loss,LH_x))\n",
    "                        print()\n",
    "                        print()\n",
    "\n",
    "                        if (np.abs(LH_x) < loss_min):\n",
    "                            loss_min = np.abs(LH_x)\n",
    "                            d_optimal = hd\n",
    "                            lr_optimal = lr\n",
    "                            alpha_optimal = alpha\n",
    "                            bs_optimal = bs\n",
    "                            beta_optimal = beta\n",
    "                            D_optimal = D\n",
    "                            latent_X_optimal = latent_X\n",
    "                    \n",
    "print(\"The minimum loss of %s was obtained using dims = %s, lr = %s, alpha = %s, bs = %s, beta = %s, D = %s\"/\n",
    "      %(loss_min,d_optimal,lr_optimal,alpha_optimal,bs_optimal,beta_optimal,D_optimal))            "
   ]
  },
  {
   "cell_type": "markdown",
   "metadata": {},
   "source": [
    "### Run the VFAE with the test set using the optimal hyperparameters"
   ]
  },
  {
   "cell_type": "code",
   "execution_count": 212,
   "metadata": {},
   "outputs": [
    {
     "name": "stderr",
     "output_type": "stream",
     "text": [
      "/Users/yevgenik/anaconda3/lib/python3.6/site-packages/tensorflow/python/ops/gradients_impl.py:96: UserWarning: Converting sparse IndexedSlices to a dense Tensor of unknown shape. This may consume a large amount of memory.\n",
      "  \"Converting sparse IndexedSlices to a dense Tensor of unknown shape. \"\n"
     ]
    },
    {
     "name": "stdout",
     "output_type": "stream",
     "text": [
      "Epoch 0: batch loss = 15.5253 and global loss = 16.5807\n",
      "KL_z1 = 0.968424, KL_z2 = 0.384209, RL = -16.9511, unsupervised posterior = -22.8647, MMD = 1.01463\n",
      "Epoch 10: batch loss = 13.268 and global loss = 13.2127\n",
      "KL_z1 = 0.0505597, KL_z2 = 0.000966574, RL = -15.4028, unsupervised posterior = -22.8647, MMD = 0.00922411\n"
     ]
    }
   ],
   "source": [
    "# Run with the optimal params\n",
    "dims = {\n",
    "    'x':VFAE_train_X.shape[1],\n",
    "    'y_cat':len(np.unique(VFAE_train_Y)),\n",
    "    's':VFAE_train_s.shape[1],\n",
    "    'z1':d_optimal[0],\n",
    "    'z2':d_optimal[1],\n",
    "    'enc1_hid':d_optimal[2],\n",
    "    'enc2_hid':d_optimal[3],\n",
    "    'dec1_hid':d_optimal[4],\n",
    "    'dec2_hid':d_optimal[5],\n",
    "    'us_hid':d_optimal[6]\n",
    "}\n",
    "\n",
    "params = initialize_params(dims,N_epochs=20,lr=lr_optimal,print_freq=10,batch_size=bs_optimal,alpha=alpha_optimal,beta=beta_optimal,D=D_optimal,gamma=1.)\n",
    "weights, bias = initialize_weights_biases(params)\n",
    "enc_X, latent_X, loss, LH_x = train_VFAE(VFAE_train_X,VFAE_train_Y,VFAE_train_s,VFAE_test_X,VFAE_test_Y,VFAE_test_s,weights,bias,params,dims)"
   ]
  },
  {
   "cell_type": "markdown",
   "metadata": {},
   "source": [
    "### Split the test set and resulting latent representation into training and test sets, to be used in a classification model"
   ]
  },
  {
   "cell_type": "code",
   "execution_count": 267,
   "metadata": {},
   "outputs": [],
   "source": [
    "train_index, test_index = train_test_split(np.arange(VFAE_test_X.shape[0]),test_size=0.3)\n",
    "clf_train_X, clf_test_X = VFAE_test_X[train_index], VFAE_test_X[test_index]\n",
    "clf_train_Y, clf_test_Y = VFAE_test_Y[train_index].ravel(), VFAE_test_Y[test_index].ravel()\n",
    "clf_train_s, clf_test_s = VFAE_test_s[train_index], VFAE_test_s[test_index]\n",
    "df_train, df_test = df_VFAE_test.loc[train_index], df_VFAE_test.loc[test_index]\n",
    "\n",
    "train_latent_X, test_latent_X = latent_X[train_index], latent_X[test_index]"
   ]
  },
  {
   "cell_type": "code",
   "execution_count": 222,
   "metadata": {},
   "outputs": [
    {
     "name": "stdout",
     "output_type": "stream",
     "text": [
      "F1 score = 0.230942872026\n",
      "Precision score = 0.538461538462\n",
      "Recall score = 0.146993810787\n",
      "Accuracy score = 0.993615165603\n",
      "\n",
      "Discrimination_ratio = 1.8552219649734132\n",
      "\n"
     ]
    },
    {
     "data": {
      "image/png": "[encoded data removed]",
      "text/plain": [
       "<matplotlib.figure.Figure at 0x1aa1305240>"
      ]
     },
     "metadata": {},
     "output_type": "display_data"
    }
   ],
   "source": [
    "params = {'n_jobs': -1, 'n_estimators': 47, 'max_depth': 8, 'criterion': 'gini', 'class_weight': None}\n",
    "weights = np.ones(clf_train_Y.shape[0])\n",
    "weights[clf_train_Y==1] = 1.\n",
    "weights[clf_train_Y==0] = 0.5\n",
    "RFC = run_clf('RFC',train_latent_X,clf_train_Y,params,weights=weights)\n",
    "bias = check_error_and_discrimination(RFC,test_latent_X,clf_test_Y,df_test,sensitive_features)\n",
    "df_bias = pd.DataFrame(bias).transpose()\n",
    "df_bias.columns = [\"Group\",\"N_group/N_total\",\"N_group/N_total|(predicted arrest)\",\"N_group/N_total|(predicted not arrest)\"]\n",
    "plot_distribution(df_bias)"
   ]
  },
  {
   "cell_type": "code",
   "execution_count": null,
   "metadata": {
    "collapsed": true
   },
   "outputs": [],
   "source": []
  }
 ],
 "metadata": {
  "kernelspec": {
   "display_name": "Python 3",
   "language": "python",
   "name": "python3"
  },
  "language_info": {
   "codemirror_mode": {
    "name": "ipython",
    "version": 3
   },
   "file_extension": ".py",
   "mimetype": "text/x-python",
   "name": "python",
   "nbconvert_exporter": "python",
   "pygments_lexer": "ipython3",
   "version": "3.6.3"
  }
 },
 "nbformat": 4,
 "nbformat_minor": 2
}
